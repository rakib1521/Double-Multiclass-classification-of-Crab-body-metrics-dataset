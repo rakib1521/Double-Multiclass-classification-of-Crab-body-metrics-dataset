{
 "cells": [
  {
   "cell_type": "code",
   "execution_count": 17,
   "id": "00f0b79d",
   "metadata": {},
   "outputs": [],
   "source": [
    "import pickle\n",
    "import pandas as pd \n",
    "import time"
   ]
  },
  {
   "cell_type": "code",
   "execution_count": 19,
   "id": "d221f583",
   "metadata": {},
   "outputs": [],
   "source": [
    "def get_gender_and_color_method_one(df):\n",
    "  filename = 'models/carb_dataset_composite.sav'\n",
    "  loaded_model = pickle.load(open(filename, 'rb'))\n",
    "  gender_and_color = loaded_model.predict(df)[0]\n",
    "  gender_and_color = gender_and_color.split(\"_\")\n",
    "  \n",
    "  return \"{} carb body color {} \".format(gender_and_color[0],gender_and_color[1])\n",
    "\n",
    "\n",
    "def get_color(gender):\n",
    "  if gender == \"M\":\n",
    "    filename = 'models/carb_dataset_male_color.sav'\n",
    "    loaded_model = pickle.load(open(filename, 'rb'))\n",
    "    color = loaded_model.predict(df)[0]\n",
    "  else :\n",
    "    filename = 'models/carb_dataset_female_color.sav'\n",
    "    loaded_model = pickle.load(open(filename, 'rb'))\n",
    "    color = loaded_model.predict(df)[0]\n",
    "  return color  \n",
    "\n",
    "\n",
    "\n",
    "def get_gender_and_color_method_two(df):\n",
    "  filename = 'models/carb_dataset_male_female.sav'\n",
    "  loaded_model = pickle.load(open(filename, 'rb'))\n",
    "  gender = loaded_model.predict(df)[0]\n",
    "  color = get_color(gender)\n",
    "  \n",
    "  return \"{} carb body color {} \".format(gender,color)\n"
   ]
  },
  {
   "cell_type": "code",
   "execution_count": 20,
   "id": "27344485",
   "metadata": {},
   "outputs": [
    {
     "name": "stdout",
     "output_type": "stream",
     "text": [
      "M carb body color B \n",
      "Runtime of the method one is 0.005574941635131836\n",
      "M carb body color B \n",
      "Runtime of the method two is 0.012721538543701172\n"
     ]
    }
   ],
   "source": [
    "FL = 8.1\n",
    "RW = 6.7\n",
    "CL = 16.1\n",
    "CW = 19.0\n",
    "BD = 7.0\n",
    "\n",
    "data = {\n",
    "    \"FL\" : [FL],\n",
    "    \"RW\" : [RW],\n",
    "    \"CL\" : [CL],\n",
    "    \"CW\" : [CW],\n",
    "    \"BD\" : [BD]\n",
    "}\n",
    "df = pd.DataFrame.from_dict(data)\n",
    "\n",
    "# starting time\n",
    "start = time.time()\n",
    "\n",
    "print(get_gender_and_color_method_one(df))\n",
    "\n",
    "# end time\n",
    "end = time.time()\n",
    "\n",
    "# total time taken\n",
    "print(f\"Runtime of the method one is {end - start}\")\n",
    "\n",
    "# starting time\n",
    "start = time.time()\n",
    "\n",
    "print(get_gender_and_color_method_two(df))\n",
    "\n",
    "# end time\n",
    "end = time.time()\n",
    "\n",
    "# total time taken\n",
    "print(f\"Runtime of the method two is {end - start}\")"
   ]
  },
  {
   "cell_type": "code",
   "execution_count": null,
   "id": "044274dc",
   "metadata": {},
   "outputs": [],
   "source": []
  }
 ],
 "metadata": {
  "kernelspec": {
   "display_name": "Python 3 (ipykernel)",
   "language": "python",
   "name": "python3"
  },
  "language_info": {
   "codemirror_mode": {
    "name": "ipython",
    "version": 3
   },
   "file_extension": ".py",
   "mimetype": "text/x-python",
   "name": "python",
   "nbconvert_exporter": "python",
   "pygments_lexer": "ipython3",
   "version": "3.9.7"
  }
 },
 "nbformat": 4,
 "nbformat_minor": 5
}
